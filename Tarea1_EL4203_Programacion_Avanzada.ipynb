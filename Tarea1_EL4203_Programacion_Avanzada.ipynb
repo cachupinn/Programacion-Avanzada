{
  "nbformat": 4,
  "nbformat_minor": 0,
  "metadata": {
    "colab": {
      "provenance": []
    },
    "kernelspec": {
      "name": "python3",
      "display_name": "Python 3"
    },
    "language_info": {
      "name": "python"
    }
  },
  "cells": [
    {
      "cell_type": "markdown",
      "source": [
        "# **Tarea 1 - EL4203 Programación Avanzada**\n",
        "\n",
        " **Estudiante**: Sofía López González\n",
        "\n",
        "**Profesores**: Ignacio Bugueño, Pablo Martín\n",
        "\n",
        "**Auxiliar**: Esteban Muñoz\n",
        "\n",
        "**Ayudantes**: Agustín González, Diego Torreblanca, Ignacio Romero"
      ],
      "metadata": {
        "id": "p2xhjdJbl8Ph"
      }
    },
    {
      "cell_type": "markdown",
      "source": [
        "# **1.- Preguntas teóricas**\n",
        "\n",
        "\n",
        "---\n",
        "\n",
        "\n",
        "### • **¿Qué es un paradigma de programación?**\n",
        "\n",
        "Un paradigma de programación es un enfoque para escribir programas, que define cómo se estructuran y organizan las soluciones a problemas dentro de un lenguaje de programación. Cada paradigma ofrece diferentes formas de pensar sobre el diseño del software y la lógica de los programas.\n",
        "\n",
        "Los paradigmas de programación establecen reglas y principios que guían cómo los programadores deben abordar la solución de problemas, incluyendo cómo organizar los datos, cómo estructurar el flujo del programa, y cómo dividir las tareas. Los lenguajes de programación usualmente son multiparadigma, como Python.\n",
        "\n",
        "Podemos encontrar diferentes tipos de paradigmas, donde tenemos:\n",
        "\n",
        "1.   Orientada a Objetos: Se basa en el concepto de objetos que representan cosas del mundo real dandoles atributos (lo que serían los datos) y métodos (funciones). Este paradigma tiene la característica de reutilización de código a través de la herencia y encapsulamiento.\n",
        "\n",
        "2.   Imperativo: Se enfoca en describir **cómo** un programa debe ejecutar las instrucciones para lograr un objetivo. El programador especifica una secuencia de comandos o instrucciones que el programa debe seguir. Entre sus características se encuentra que utiliza variables, bucles como if, while y for.\n",
        "\n",
        "3.   Funcional: En este paradigma, la base son las funciones matemáticas sin efectos colaterales, es decir, que no modifican el estado del programa. Dentro de sus características se tiene que utiliza intensivamente funciones y composición de funciones, evita estados mutables (los datos no cambian) y efectos secundarios.\n",
        "\n",
        "4.   Lógica: Los programas se describen en términos de relaciones lógicas. El programador define hechos y reglas. El programa es el que se encarga de \"razonar\" para encontrar la solución en base a las reglas que se le impone. Se utilizan los booleanos como True, False, and, or, etc.\n",
        "\n",
        "5.   Declarativa: En este caso el programador describe **qué** se quiere lograr, enfocandóse en describir el resultado deseado. Se espresan las reglas o el resultados y el programa decide como ejecutarlo.\n",
        "\n",
        "\n",
        "\n",
        "\\\\\n",
        "\n",
        "\n",
        "---\n",
        "\n",
        "\n",
        "### **• ¿En qué se basa la programación orientada a objetos?**\n",
        "\n",
        "La programación orientada a objetos se basa en la idea de organizar el código en objetos, que son entidades que combinan tanto datos (atributos o propiedades) como comportamiento (métodos o funciones). Este enfoque permite modelar los problemas de una manera más natural y cercana a cómo percibimos el mundo real.\n",
        "\n",
        "Dentro de este paradigma existen 5 conceptos fundamentales, los cuales son:\n",
        "\n",
        "1.   Clases y objetos: La clase define los datos y las funciones que tendrán los objetos. Mientras que el objeto es una instancia de la clase.\n",
        "\n",
        "2.   Encapsulamiento: Consiste en ocultar los detalles internos de un objeto y proteger los datos del acceso directo desde el exterior. Los datos de un objeto se manejan solo a través de sus funciones, lo que permite controlar el acceso y las modificaciones.\n",
        "\n",
        "3.   Herencia: Mecanismo que permite crear subclases a partir de una ya existente heredando los atributos y funciones de la clase base, pero también puede agregar nuevos datos y funciones o modificarlos. La herencia promueve la reutilización de código y permite modelar relaciones jerárquicas entre clases.\n",
        "\n",
        "4.   Polimorfismo: Permite que diferentes clases tengan métodos con el mismo nombre, pero con comportamientos específicos según la clase que los implemente. Esto facilita la interfaz común entre objetos de diferentes clases, ya que pueden responder al mismo mensaje (llamada de método) de maneras diferentes.\n",
        "\n",
        "5.   Abstracción: Consiste en ocultar los detalles complejos de la implementación y mostrar solo lo esencial. Permite que el programador trabaje a un nivel de alto nivel sin preocuparse por los detalles internos de los objetos.\n",
        "\n",
        "\\\\\n",
        "\n",
        "---\n",
        "\n",
        "\n",
        "### **• ¿Cuál es la diferencia entre recursividad e iteración, y cómo se relaciona esto con la notación big 𝑂?**\n",
        "\n",
        "La diferencia entre recursividad e iteración, es que el primero se basa en una función que se llama así misma para resolver un problema. Mientras que la segunda trata de un bluce como los que forman las funciones for y while, las cuales terminan hasta un punto de termino impuesto por el programador.\n",
        "\n",
        "Esto se relaciona con la notación Big 𝑂 tal que si ambos métodos resolvieran el mismo problema, ambos tendrían el mismo orden, es decir 𝑂(𝑛).\n",
        "\n",
        "\\\\\n",
        "\n",
        "---\n",
        "\n",
        "### **• Explicar la diferencia de rendimiento entre 𝑂(1) y 𝑂(𝑛).**\n",
        "\n",
        "En el caso de 𝑂(1), se tiene que el tiempo en el que se ejecuta el programa es constante, lo que indica que el número de operaciones que necesita ejecutar en el algoritmo es independiente del tamaño de entrada. Además, es el tipo de algoritmo más rápido.\n",
        "\n",
        "Por otro lado, en el caso del 𝑂(𝑛), el tiempo en el se ejecuta el algoritmo es directamente proporcional al tamaño de entrada. Es el 3er tipo de algoritmo más rápido después de 𝑂(log 𝑛).\n",
        "\n",
        "\\\\\n",
        "\n",
        "---\n",
        "\n",
        "### **• ¿Cómo se calcula el orden en un programa que funciona por etapas?**\n",
        "\n",
        "Primero hay que obtener el rendimiento de cada etapa.\n",
        "\n",
        "Luego hay que distinguir como se relacionan las etapas entre si. Si las etapas se ejecutan en paralelo entonces el rendimiento del algoritmo completo es de la complejidad de la etapa más costosa.\n",
        "\n",
        "Si las etapas se ejecutan en serie, entonces el rendimiento es la suma de las etapas, es decir, el rendimiento del programa es de la complejidad de la etapa más costosa.\n",
        "\n",
        "Por último, si las etapas estan anidadas, por ejemplo, un bucle dentro de otro bucle, entonces el rendimiento del algoritmo es la multiplicación de las complejidades de cada etapa.\n",
        "\n",
        "\\\\\n",
        "\n",
        "---\n",
        "\n",
        "### **• ¿Cómo se puede determinar la complejidad temporal de un algoritmo recursivo?**\n",
        "\n",
        "Para determinar la complejidad temporal de una algoritmo recursivo pero se debe definir una relación de recurrencia. Esto describe el tiempo de ejecución de un algoritmo recursivo en función del tamaño de la entrada. Esto generalmente implica descomponer el problema en subproblemas más pequeños y expresar el tiempo de ejecución en función del tiempo de ejecución de esos subproblemas.\n",
        "La relación incluye tres partes: el tiempo necesario para resolver el problema de tamaño $n$ (en términos de subproblemas), el número de subproblemas, y el trabajo adicional (no recursivo) que realiza el algoritmo en cada llamada recursiva.\n",
        "\n",
        "Una vez que se tiene la relación de recurrencia, se puede resolver utilizando técnicas como el método de sustitución, árboles de recurrencia, o el teorema maestro. Esto permite obtener la complejidad temporal en términos de $n$.\n",
        "\n",
        "---"
      ],
      "metadata": {
        "id": "A8ptvC3YmuR2"
      }
    },
    {
      "cell_type": "markdown",
      "source": [
        "# **2.- Caminos en una PCB**\n",
        "\n",
        "Se quiere trazar un camino entre un punto 𝐴 y un punto 𝐵 en una PCB. Se asumirán las siguientes simplificaciones:\n",
        "\n",
        "• La PCB se divide en un conjunto de celdas, que forman una grilla de tamaño 𝑁 ⋅ 𝑀\n",
        "\n",
        "• El punto 𝐴 se encuentra en la esquina superior izquierda de esta grilla mientras que el punto 𝐵 se ubica en la esquina inferior derecha\n",
        "\n",
        "• No puede moverse diagonalmente a través de la grilla, solo horizontal y verticalmente\n",
        "\n",
        "• Solo puede acercarse al punto 𝐵. No puede ir a una celda que se encuentre más lejos o devolverse en su camino\n",
        "\n",
        "Se busca programar una clase que sea capaz de calcular la cantidad posible de caminos entre 𝐴 y 𝐵, en al menos 2 formas distintas.\n"
      ],
      "metadata": {
        "id": "244CFrv3HEfc"
      }
    },
    {
      "cell_type": "markdown",
      "source": [
        "Para el primer método tenemos que se necesitan $N - 1$ y $M - 1$ movimientos para desplazarse de $A$ a $B$. Donde el total de movimientos posibles para formar un camino es $(N - 1) + (M - 1) = N + M - 2$. Esto se puede calcular como una combinación de\n",
        "\n",
        "$$\\binom{N + M - 2}{N - 1} = \\frac{(N + M - 2)!}{(N - 1)! (M - 1)!}$$"
      ],
      "metadata": {
        "id": "ShsYxNGC6Bnw"
      }
    },
    {
      "cell_type": "markdown",
      "source": [
        "Mientras que para el segundo método se usará recursión"
      ],
      "metadata": {
        "id": "r5fZ7CED6BlI"
      }
    },
    {
      "cell_type": "code",
      "source": [
        "import math\n",
        "\n",
        "class CaminosPCB:\n",
        "  def __init__(self, N, M):\n",
        "    self.N = N\n",
        "    self.M = M\n",
        "\n",
        "  # Método 1: Usando combinatoria\n",
        "  def metodo1(self):\n",
        "    return math.comb(self.N + self.M - 2, self.N - 1)\n",
        "\n",
        "  # Método 2: Usando recursión\n",
        "  def metodo2(self, x, y):\n",
        "    # Si se alcanza el punto B (esquina inferior derecha), es un camino válido y se termina la función\n",
        "    if x == self.N - 1 and y == self.M - 1:\n",
        "      return 1\n",
        "    # Rutas válidas\n",
        "    if x >= self.N or y >= self.M:\n",
        "      return 0\n",
        "    # Continuar buscando caminos moviéndonos hacia la derecha o hacia abajo\n",
        "    return self.metodo2(x + 1, y) + self.metodo2(x, y + 1)\n"
      ],
      "metadata": {
        "id": "zUjgmZf46AaB"
      },
      "execution_count": null,
      "outputs": []
    },
    {
      "cell_type": "markdown",
      "source": [
        "Ahora, se busca crear otro método tal que permita elegir cual de los 2 métodos anteriores es más óptimo en términos de tiempo de ejecución. A este nuevo método se le implementará un decorador con el fin de obtener el tiempo de ejecución. Así,\n"
      ],
      "metadata": {
        "id": "f_Fyt_K26Bim"
      }
    },
    {
      "cell_type": "code",
      "source": [
        "import time\n",
        "import math\n",
        "\n",
        "# Lista global para almacenar los tiempos de ejecución\n",
        "tiempos_ejecucion = []\n",
        "\n",
        "# Decorador que mide y almacena el tiempo de ejecución\n",
        "def medir_tiempo(func):\n",
        "  def wrapper(*args, **kwargs):\n",
        "    inicio = time.time()  # Inicia el cronómetro\n",
        "    resultado = func(*args, **kwargs)  # Ejecuta la función decorada\n",
        "    fin = time.time()  # Detiene el cronómetro\n",
        "    tiempo_total = fin - inicio\n",
        "    # Accedemos y modificamos la lista global\n",
        "    tiempos_ejecucion.append(tiempo_total)  # Almacena el tiempo de ejecución en la lista global\n",
        "    return resultado\n",
        "  return wrapper\n",
        "\n",
        "class CaminosPCB:\n",
        "  def __init__(self, N, M):\n",
        "    self.N = N\n",
        "    self.M = M\n",
        "\n",
        "  # Método 1: Usando combinatoria\n",
        "  def metodo1(self):\n",
        "    return math.comb(self.N + self.M - 2, self.N - 1)\n",
        "\n",
        "  # Método 2: Usando recursión\n",
        "  def metodo2(self, x, y):\n",
        "    # Si se alcanza el punto B (esquina inferior derecha), es un camino válido y se termina la función\n",
        "    if x == self.N - 1 and y == self.M - 1:\n",
        "      return 1\n",
        "    # Rutas válidas\n",
        "    if x >= self.N or y >= self.M:\n",
        "      return 0\n",
        "    # Continuar buscando caminos moviéndonos hacia la derecha o hacia abajo\n",
        "    return self.metodo2(x + 1, y) + self.metodo2(x, y + 1)\n",
        "\n",
        "  @medir_tiempo # Ejecución del decorador de forma paralela a esta función\n",
        "  # Método para escojer el método y obtener el tiempo de ejecución de éste\n",
        "  def calcular_caminos(self, metodo):\n",
        "    if metodo == 'metodo1':\n",
        "      return self.metodo1() # se ejecuta el primer método\n",
        "    elif metodo == 'metodo2':\n",
        "      return self.metodo2(0, 0) # se ejecuta el segundo método"
      ],
      "metadata": {
        "id": "pqe-K6G2vgxp"
      },
      "execution_count": 136,
      "outputs": []
    },
    {
      "cell_type": "markdown",
      "source": [
        "Ejemplo: Se selecciona una grilla de 5 x 5 y se obtienen los tiempos de ejecución de cada método."
      ],
      "metadata": {
        "id": "o-Fmcam1om70"
      }
    },
    {
      "cell_type": "code",
      "source": [
        "pcb = CaminosPCB(5, 5)\n",
        "\n",
        "# Calcular caminos usando recursión\n",
        "print(f\"Caminos (recursión): {pcb.calcular_caminos('metodo1')}\")\n",
        "print(f\"Tiempos de ejecución almacenados: {tiempos_ejecucion}\")\n",
        "\n",
        "tiempos_ejecucion = [] # Se vacía la lista para obtener los resultados del segundo método\n",
        "\n",
        "# Cambiar a combinatoria y calcular caminos\n",
        "print(f\"Caminos (combinatoria): {pcb.calcular_caminos('metodo2')}\")\n",
        "print(f\"Tiempos de ejecución almacenados: {tiempos_ejecucion}\")"
      ],
      "metadata": {
        "colab": {
          "base_uri": "https://localhost:8080/"
        },
        "id": "0SPfpUCfP-CF",
        "outputId": "7c85a369-02b9-44aa-d0ef-27734dab6e98"
      },
      "execution_count": 138,
      "outputs": [
        {
          "output_type": "stream",
          "name": "stdout",
          "text": [
            "Caminos (recursión): 70\n",
            "Tiempos de ejecución almacenados: [0.00018143653869628906, 9.5367431640625e-06]\n",
            "Caminos (combinatoria): 70\n",
            "Tiempos de ejecución almacenados: [0.0001671314239501953]\n"
          ]
        }
      ]
    },
    {
      "cell_type": "markdown",
      "source": [
        "Para graficar, asumimos N = M. Graficamos tiempo de ejecución en función del número de entrada hasta N = 10."
      ],
      "metadata": {
        "id": "GNjHhwlU6BgF"
      }
    },
    {
      "cell_type": "code",
      "source": [
        "# Se vacía la lista para evitar confusiones entre los datos\n",
        "tiempos_ejecucion = []\n",
        "\n",
        "# Se generan los tiempos de ejecución para N = 1 hasta N = 10 para el método 1\n",
        "for i in range(1, 11):\n",
        "  pcb = CaminosPCB(i, i)\n",
        "  pcb.calcular_caminos('metodo1')\n",
        "\n",
        "# Se guardan los tiempos de ejecución para cada N en t1\n",
        "t1 = tiempos_ejecucion\n",
        "\n",
        "tiempos_ejecucion = [] # Se vacía la lista\n",
        "\n",
        "# Se generan los tiempos de ejecución para N = 1 hasta N = 10  para el método 2\n",
        "for i in range(1, 11):\n",
        "  pcb = CaminosPCB(i, i)\n",
        "  pcb.calcular_caminos('metodo2')\n",
        "\n",
        "# Se guardan los tiempos de ejecución para cada N en t2\n",
        "t2 = tiempos_ejecucion\n",
        "\n",
        "tiempos_ejecucion = [] # Se vacía la lista\n",
        "\n",
        "# Se imprimen las listas\n",
        "print('t1:', t1)\n",
        "print('t2:', t2)"
      ],
      "metadata": {
        "id": "Afrcv-clYEEl",
        "colab": {
          "base_uri": "https://localhost:8080/"
        },
        "outputId": "2f8110e9-4c49-4a4d-ba6d-1689c7d49851"
      },
      "execution_count": 139,
      "outputs": [
        {
          "output_type": "stream",
          "name": "stdout",
          "text": [
            "t1: [6.67572021484375e-06, 1.1920928955078125e-06, 1.9073486328125e-06, 1.1920928955078125e-06, 1.430511474609375e-06, 2.1457672119140625e-06, 1.9073486328125e-06, 1.6689300537109375e-06, 1.9073486328125e-06, 2.384185791015625e-06]\n",
            "t2: [2.86102294921875e-06, 4.5299530029296875e-06, 9.5367431640625e-06, 2.9087066650390625e-05, 0.000141143798828125, 0.00038933753967285156, 0.0018444061279296875, 0.005444765090942383, 0.022812604904174805, 0.07412862777709961]\n"
          ]
        }
      ]
    },
    {
      "cell_type": "markdown",
      "source": [
        "Graficando"
      ],
      "metadata": {
        "id": "OBDhWOo06BdT"
      }
    },
    {
      "cell_type": "code",
      "source": [
        "import matplotlib.pyplot as plt\n",
        "\n",
        "N = [1, 2, 3, 4, 5, 6, 7, 8, 9, 10]\n",
        "plt.figure()\n",
        "plt.plot(N, t1, label=\"Metodo 1\")\n",
        "plt.plot(N, t2, label=\"Metodo 2\")\n",
        "plt.legend()\n",
        "plt.title(\"Tiempo de ejecución en función del tamaño de entrada\")\n",
        "plt.grid(\"on\")\n",
        "plt.xlabel(\"Tamaño de entrada\")\n",
        "plt.ylabel(\"Tiempo de ejecución [s]\")"
      ],
      "metadata": {
        "colab": {
          "base_uri": "https://localhost:8080/",
          "height": 489
        },
        "id": "z0L03An7bUor",
        "outputId": "c19b0d5e-d16a-4f20-b766-2d4dd1dbd252"
      },
      "execution_count": 140,
      "outputs": [
        {
          "output_type": "execute_result",
          "data": {
            "text/plain": [
              "Text(0, 0.5, 'Tiempo de ejecución [s]')"
            ]
          },
          "metadata": {},
          "execution_count": 140
        },
        {
          "output_type": "display_data",
          "data": {
            "text/plain": [
              "<Figure size 640x480 with 1 Axes>"
            ],
            "image/png": "[encoded data removed]"
          },
          "metadata": {}
        }
      ]
    },
    {
      "cell_type": "markdown",
      "source": [
        "Del gráfico podemos observar que para el primer método, el tiempo de ejecución es constante para todo N. Mientras que para el segundo método, desde N = 6 el tiempo de ejecución tiende a subir exponencialmente.\n",
        "\n",
        "De esto podemos concluir que el primer método (combinatoria) es mucho más eficiente que el segundo método (recursión) ya que para cualquier N (dentro de 1 a 10) el tiempo es aproximadamente el mismo para cualquier tamaño de entrada, es decir, tiene un rendimiento 𝑂(1), siendo el algoritmo más rápido.\n",
        "\n",
        "Por otro lado, el segundo método (recursión) pareciera tener un rendimiento 𝑂($n^2$). Siendo uno de los tipos de algoritmo más lentos."
      ],
      "metadata": {
        "id": "pQYYKpny6BYK"
      }
    }
  ]
}